{
  "nbformat": 4,
  "nbformat_minor": 0,
  "metadata": {
    "colab": {
      "provenance": [],
      "authorship_tag": "ABX9TyPJliBIJCpHQMyqRvnBSW5J",
      "include_colab_link": true
    },
    "kernelspec": {
      "name": "python3",
      "display_name": "Python 3"
    },
    "language_info": {
      "name": "python"
    }
  },
  "cells": [
    {
      "cell_type": "markdown",
      "metadata": {
        "id": "view-in-github",
        "colab_type": "text"
      },
      "source": [
        "<a href=\"https://colab.research.google.com/github/mmmunyo/lec/blob/main/(%EC%B5%9C%EC%A2%85).ipynb\" target=\"_parent\"><img src=\"https://colab.research.google.com/assets/colab-badge.svg\" alt=\"Open In Colab\"/></a>"
      ]
    },
    {
      "cell_type": "code",
      "execution_count": 1,
      "metadata": {
        "colab": {
          "base_uri": "https://localhost:8080/"
        },
        "id": "ZFm0DiedJ77s",
        "outputId": "6b6f229d-7bb4-470e-a364-58847f39d997"
      },
      "outputs": [
        {
          "output_type": "stream",
          "name": "stdout",
          "text": [
            "Shape of the 3D numpy array: (11, 50, 12)\n",
            "Row Names from the First Sheet: ['口乾', '口渴', '口苦', '口臭', '口內炎.舌炎', '脣乾', '衄血', '夜啼', '上熱感', '惡寒', '惡風', '胸煩', '胸痛', '脇痛', '心悸', '短氣', '易怒', '太息', '易驚', '善恐', '不安', '憂鬱', '頭眩', '眼昏', '眼痒', '眼淚', '眼乾燥', '眼痛', '眼充血', '耳鳴', '耳痒', '耳聾', '無汗', '自汗', '盜汗', '疲勞', '睡眠', '腹脹滿', '小便頻數', '浮腫', '便溏', '泄瀉', '腰痛', '月經不順', '冷.崩漏.陰痒', '頭痛', '膝以下痛', '膝痛', '臀尖痛', '股關節痛']\n",
            "Ground Floor (First Sheet) Data:\n",
            "口乾: [1. 0. 0. 0. 0. 0. 0. 0. 0. 0. 0. 0.]\n",
            "口渴: [0. 0. 0. 0. 0. 0. 0. 0. 0. 0. 0. 0.]\n",
            "口苦: [0. 0. 0. 0. 0. 0. 0. 0. 0. 0. 0. 0.]\n",
            "口臭: [0. 0. 0. 0. 0. 0. 0. 0. 0. 0. 0. 0.]\n",
            "口內炎.舌炎: [0. 0. 0. 0. 0. 0. 0. 0. 0. 0. 0. 0.]\n"
          ]
        }
      ],
      "source": [
        "import pandas as pd\n",
        "import numpy as np\n",
        "\n",
        "excel_file_path = '/content/ilchim 240128 차트용 - 시험용.xlsx'  # Update to your actual file path\n",
        "xls = pd.ExcelFile(excel_file_path)\n",
        "\n",
        "sheet_data = []\n",
        "row_names_list = []  # 각 시트의 행 이름을 저장\n",
        "z_axis_names = xls.sheet_names  # Z축은 시트 이름들이 됩니다\n",
        "\n",
        "for sheet_name in z_axis_names:\n",
        "    df = pd.read_excel(xls, sheet_name=sheet_name)\n",
        "\n",
        "    # 첫 번째 열에서 행 이름을 추출하고 저장\n",
        "    row_names = df.iloc[0:50, 0].tolist()\n",
        "    row_names_list.append(row_names)\n",
        "\n",
        "    # 데이터 처리를 시작하기 전에 NaN 값을 0으로 채움\n",
        "    df = df.fillna(0)\n",
        "\n",
        "    # 첫 번째 열(행 이름)을 제외하고 데이터 처리\n",
        "    df_data = df.iloc[0:50, 1:]  # 첫 번째 행(열 이름)을 유지, 첫 번째 열을 제외\n",
        "    data_array = df_data.to_numpy(dtype=float)  # 데이터를 float 타입의 numpy 배열로 변환\n",
        "\n",
        "    # 처리된 데이터 배열을 추가\n",
        "    sheet_data.append(data_array)\n",
        "\n",
        "# 처리된 시트 데이터를 스택하여 3D 배열 생성\n",
        "array_3d = np.stack(sheet_data, axis=0)\n",
        "\n",
        "print(f\"Shape of the 3D numpy array: {array_3d.shape}\")\n",
        "\n",
        "# 첫 번째 시트의 행 이름을 예시로 표시\n",
        "print(\"Row Names from the First Sheet:\", row_names_list[0])\n",
        "\n",
        "# \"ground floor\" 데이터를 표시하여 두 번째 행이 포함되었는지 확인\n",
        "print(\"Ground Floor (First Sheet) Data:\")\n",
        "for row_name, row_data in zip(row_names_list[0], array_3d[0, :5, :]):  # 첫 5행의 데이터를 예시로 표시\n",
        "    print(f\"{row_name}: {row_data}\")"
      ]
    },
    {
      "cell_type": "code",
      "source": [
        "!pip install gradio"
      ],
      "metadata": {
        "colab": {
          "base_uri": "https://localhost:8080/"
        },
        "id": "ONoOfkU5xplV",
        "outputId": "f8804278-864e-4e16-f383-fd2b0006b072"
      },
      "execution_count": 2,
      "outputs": [
        {
          "output_type": "stream",
          "name": "stdout",
          "text": [
            "Requirement already satisfied: gradio in /usr/local/lib/python3.10/dist-packages (4.16.0)\n",
            "Requirement already satisfied: aiofiles<24.0,>=22.0 in /usr/local/lib/python3.10/dist-packages (from gradio) (23.2.1)\n",
            "Requirement already satisfied: altair<6.0,>=4.2.0 in /usr/local/lib/python3.10/dist-packages (from gradio) (4.2.2)\n",
            "Requirement already satisfied: fastapi in /usr/local/lib/python3.10/dist-packages (from gradio) (0.109.2)\n",
            "Requirement already satisfied: ffmpy in /usr/local/lib/python3.10/dist-packages (from gradio) (0.3.1)\n",
            "Requirement already satisfied: gradio-client==0.8.1 in /usr/local/lib/python3.10/dist-packages (from gradio) (0.8.1)\n",
            "Requirement already satisfied: httpx in /usr/local/lib/python3.10/dist-packages (from gradio) (0.26.0)\n",
            "Requirement already satisfied: huggingface-hub>=0.19.3 in /usr/local/lib/python3.10/dist-packages (from gradio) (0.20.3)\n",
            "Requirement already satisfied: importlib-resources<7.0,>=1.3 in /usr/local/lib/python3.10/dist-packages (from gradio) (6.1.1)\n",
            "Requirement already satisfied: jinja2<4.0 in /usr/local/lib/python3.10/dist-packages (from gradio) (3.1.3)\n",
            "Requirement already satisfied: markupsafe~=2.0 in /usr/local/lib/python3.10/dist-packages (from gradio) (2.1.5)\n",
            "Requirement already satisfied: matplotlib~=3.0 in /usr/local/lib/python3.10/dist-packages (from gradio) (3.7.1)\n",
            "Requirement already satisfied: numpy~=1.0 in /usr/local/lib/python3.10/dist-packages (from gradio) (1.23.5)\n",
            "Requirement already satisfied: orjson~=3.0 in /usr/local/lib/python3.10/dist-packages (from gradio) (3.9.13)\n",
            "Requirement already satisfied: packaging in /usr/local/lib/python3.10/dist-packages (from gradio) (23.2)\n",
            "Requirement already satisfied: pandas<3.0,>=1.0 in /usr/local/lib/python3.10/dist-packages (from gradio) (1.5.3)\n",
            "Requirement already satisfied: pillow<11.0,>=8.0 in /usr/local/lib/python3.10/dist-packages (from gradio) (9.4.0)\n",
            "Requirement already satisfied: pydantic>=2.0 in /usr/local/lib/python3.10/dist-packages (from gradio) (2.6.1)\n",
            "Requirement already satisfied: pydub in /usr/local/lib/python3.10/dist-packages (from gradio) (0.25.1)\n",
            "Requirement already satisfied: python-multipart in /usr/local/lib/python3.10/dist-packages (from gradio) (0.0.7)\n",
            "Requirement already satisfied: pyyaml<7.0,>=5.0 in /usr/local/lib/python3.10/dist-packages (from gradio) (6.0.1)\n",
            "Requirement already satisfied: ruff>=0.1.7 in /usr/local/lib/python3.10/dist-packages (from gradio) (0.2.1)\n",
            "Requirement already satisfied: semantic-version~=2.0 in /usr/local/lib/python3.10/dist-packages (from gradio) (2.10.0)\n",
            "Requirement already satisfied: tomlkit==0.12.0 in /usr/local/lib/python3.10/dist-packages (from gradio) (0.12.0)\n",
            "Requirement already satisfied: typer[all]<1.0,>=0.9 in /usr/local/lib/python3.10/dist-packages (from gradio) (0.9.0)\n",
            "Requirement already satisfied: typing-extensions~=4.0 in /usr/local/lib/python3.10/dist-packages (from gradio) (4.9.0)\n",
            "Requirement already satisfied: uvicorn>=0.14.0 in /usr/local/lib/python3.10/dist-packages (from gradio) (0.27.0.post1)\n",
            "Requirement already satisfied: fsspec in /usr/local/lib/python3.10/dist-packages (from gradio-client==0.8.1->gradio) (2023.6.0)\n",
            "Requirement already satisfied: websockets<12.0,>=10.0 in /usr/local/lib/python3.10/dist-packages (from gradio-client==0.8.1->gradio) (11.0.3)\n",
            "Requirement already satisfied: entrypoints in /usr/local/lib/python3.10/dist-packages (from altair<6.0,>=4.2.0->gradio) (0.4)\n",
            "Requirement already satisfied: jsonschema>=3.0 in /usr/local/lib/python3.10/dist-packages (from altair<6.0,>=4.2.0->gradio) (4.19.2)\n",
            "Requirement already satisfied: toolz in /usr/local/lib/python3.10/dist-packages (from altair<6.0,>=4.2.0->gradio) (0.12.1)\n",
            "Requirement already satisfied: filelock in /usr/local/lib/python3.10/dist-packages (from huggingface-hub>=0.19.3->gradio) (3.13.1)\n",
            "Requirement already satisfied: requests in /usr/local/lib/python3.10/dist-packages (from huggingface-hub>=0.19.3->gradio) (2.31.0)\n",
            "Requirement already satisfied: tqdm>=4.42.1 in /usr/local/lib/python3.10/dist-packages (from huggingface-hub>=0.19.3->gradio) (4.66.1)\n",
            "Requirement already satisfied: contourpy>=1.0.1 in /usr/local/lib/python3.10/dist-packages (from matplotlib~=3.0->gradio) (1.2.0)\n",
            "Requirement already satisfied: cycler>=0.10 in /usr/local/lib/python3.10/dist-packages (from matplotlib~=3.0->gradio) (0.12.1)\n",
            "Requirement already satisfied: fonttools>=4.22.0 in /usr/local/lib/python3.10/dist-packages (from matplotlib~=3.0->gradio) (4.47.2)\n",
            "Requirement already satisfied: kiwisolver>=1.0.1 in /usr/local/lib/python3.10/dist-packages (from matplotlib~=3.0->gradio) (1.4.5)\n",
            "Requirement already satisfied: pyparsing>=2.3.1 in /usr/local/lib/python3.10/dist-packages (from matplotlib~=3.0->gradio) (3.1.1)\n",
            "Requirement already satisfied: python-dateutil>=2.7 in /usr/local/lib/python3.10/dist-packages (from matplotlib~=3.0->gradio) (2.8.2)\n",
            "Requirement already satisfied: pytz>=2020.1 in /usr/local/lib/python3.10/dist-packages (from pandas<3.0,>=1.0->gradio) (2023.4)\n",
            "Requirement already satisfied: annotated-types>=0.4.0 in /usr/local/lib/python3.10/dist-packages (from pydantic>=2.0->gradio) (0.6.0)\n",
            "Requirement already satisfied: pydantic-core==2.16.2 in /usr/local/lib/python3.10/dist-packages (from pydantic>=2.0->gradio) (2.16.2)\n",
            "Requirement already satisfied: click<9.0.0,>=7.1.1 in /usr/local/lib/python3.10/dist-packages (from typer[all]<1.0,>=0.9->gradio) (8.1.7)\n",
            "Requirement already satisfied: colorama<0.5.0,>=0.4.3 in /usr/local/lib/python3.10/dist-packages (from typer[all]<1.0,>=0.9->gradio) (0.4.6)\n",
            "Requirement already satisfied: shellingham<2.0.0,>=1.3.0 in /usr/local/lib/python3.10/dist-packages (from typer[all]<1.0,>=0.9->gradio) (1.5.4)\n",
            "Requirement already satisfied: rich<14.0.0,>=10.11.0 in /usr/local/lib/python3.10/dist-packages (from typer[all]<1.0,>=0.9->gradio) (13.7.0)\n",
            "Requirement already satisfied: h11>=0.8 in /usr/local/lib/python3.10/dist-packages (from uvicorn>=0.14.0->gradio) (0.14.0)\n",
            "Requirement already satisfied: starlette<0.37.0,>=0.36.3 in /usr/local/lib/python3.10/dist-packages (from fastapi->gradio) (0.36.3)\n",
            "Requirement already satisfied: anyio in /usr/local/lib/python3.10/dist-packages (from httpx->gradio) (3.7.1)\n",
            "Requirement already satisfied: certifi in /usr/local/lib/python3.10/dist-packages (from httpx->gradio) (2024.2.2)\n",
            "Requirement already satisfied: httpcore==1.* in /usr/local/lib/python3.10/dist-packages (from httpx->gradio) (1.0.2)\n",
            "Requirement already satisfied: idna in /usr/local/lib/python3.10/dist-packages (from httpx->gradio) (3.6)\n",
            "Requirement already satisfied: sniffio in /usr/local/lib/python3.10/dist-packages (from httpx->gradio) (1.3.0)\n",
            "Requirement already satisfied: attrs>=22.2.0 in /usr/local/lib/python3.10/dist-packages (from jsonschema>=3.0->altair<6.0,>=4.2.0->gradio) (23.2.0)\n",
            "Requirement already satisfied: jsonschema-specifications>=2023.03.6 in /usr/local/lib/python3.10/dist-packages (from jsonschema>=3.0->altair<6.0,>=4.2.0->gradio) (2023.12.1)\n",
            "Requirement already satisfied: referencing>=0.28.4 in /usr/local/lib/python3.10/dist-packages (from jsonschema>=3.0->altair<6.0,>=4.2.0->gradio) (0.33.0)\n",
            "Requirement already satisfied: rpds-py>=0.7.1 in /usr/local/lib/python3.10/dist-packages (from jsonschema>=3.0->altair<6.0,>=4.2.0->gradio) (0.17.1)\n",
            "Requirement already satisfied: six>=1.5 in /usr/local/lib/python3.10/dist-packages (from python-dateutil>=2.7->matplotlib~=3.0->gradio) (1.16.0)\n",
            "Requirement already satisfied: markdown-it-py>=2.2.0 in /usr/local/lib/python3.10/dist-packages (from rich<14.0.0,>=10.11.0->typer[all]<1.0,>=0.9->gradio) (3.0.0)\n",
            "Requirement already satisfied: pygments<3.0.0,>=2.13.0 in /usr/local/lib/python3.10/dist-packages (from rich<14.0.0,>=10.11.0->typer[all]<1.0,>=0.9->gradio) (2.16.1)\n",
            "Requirement already satisfied: exceptiongroup in /usr/local/lib/python3.10/dist-packages (from anyio->httpx->gradio) (1.2.0)\n",
            "Requirement already satisfied: charset-normalizer<4,>=2 in /usr/local/lib/python3.10/dist-packages (from requests->huggingface-hub>=0.19.3->gradio) (3.3.2)\n",
            "Requirement already satisfied: urllib3<3,>=1.21.1 in /usr/local/lib/python3.10/dist-packages (from requests->huggingface-hub>=0.19.3->gradio) (2.0.7)\n",
            "Requirement already satisfied: mdurl~=0.1 in /usr/local/lib/python3.10/dist-packages (from markdown-it-py>=2.2.0->rich<14.0.0,>=10.11.0->typer[all]<1.0,>=0.9->gradio) (0.1.2)\n"
          ]
        }
      ]
    },
    {
      "cell_type": "code",
      "source": [
        "!pip install --upgrade typing-extensions\n",
        "!pip install --upgrade pydantic\n",
        "!pip check\n",
        "\n",
        "import gradio as gr"
      ],
      "metadata": {
        "colab": {
          "base_uri": "https://localhost:8080/"
        },
        "id": "34Rtzfp_gaBH",
        "outputId": "24cf3d28-1cab-47b0-c57a-9e6ec6a70410"
      },
      "execution_count": 3,
      "outputs": [
        {
          "output_type": "stream",
          "name": "stdout",
          "text": [
            "Requirement already satisfied: typing-extensions in /usr/local/lib/python3.10/dist-packages (4.9.0)\n",
            "Requirement already satisfied: pydantic in /usr/local/lib/python3.10/dist-packages (2.6.1)\n",
            "Requirement already satisfied: annotated-types>=0.4.0 in /usr/local/lib/python3.10/dist-packages (from pydantic) (0.6.0)\n",
            "Requirement already satisfied: pydantic-core==2.16.2 in /usr/local/lib/python3.10/dist-packages (from pydantic) (2.16.2)\n",
            "Requirement already satisfied: typing-extensions>=4.6.1 in /usr/local/lib/python3.10/dist-packages (from pydantic) (4.9.0)\n",
            "ipython 7.34.0 requires jedi, which is not installed.\n",
            "lida 0.0.10 requires kaleido, which is not installed.\n",
            "llmx 0.0.15a0 requires cohere, which is not installed.\n",
            "llmx 0.0.15a0 requires openai, which is not installed.\n",
            "llmx 0.0.15a0 requires tiktoken, which is not installed.\n",
            "pygobject 3.42.1 requires pycairo, which is not installed.\n"
          ]
        }
      ]
    },
    {
      "cell_type": "code",
      "source": [
        "# Load data from Excel\n",
        "excel_file_path = '/content/ilchim 240128 차트용 - 시험용.xlsx'  # Update to your actual file path\n",
        "xls = pd.ExcelFile(excel_file_path)\n",
        "\n",
        "sheet_data = []\n",
        "row_names_list = []  # Store row names for each sheet\n",
        "z_axis_names = xls.sheet_names  # Z axis becomes sheet names\n",
        "column_names = []  # Initialize list to store actual column names from the first sheet\n",
        "\n",
        "# Process each sheet\n",
        "for sheet_name in z_axis_names:\n",
        "    df = pd.read_excel(xls, sheet_name=sheet_name)\n",
        "    row_names = df.iloc[:, 0].tolist()\n",
        "    row_names_list.append(row_names)\n",
        "\n",
        "    # Assuming the first row of the first sheet contains column names\n",
        "    if not column_names:\n",
        "        column_names = df.columns[1:].tolist()  # Skip the first column for row names\n",
        "\n",
        "    df.fillna(0, inplace=True)\n",
        "    data_array = df.iloc[:, 1:].to_numpy(dtype=float)\n",
        "    sheet_data.append(data_array)\n",
        "\n",
        "array_3d = np.stack(sheet_data, axis=0)\n",
        "\n",
        "def calculate_top_values(selected_row_names):\n",
        "    selected_indices = [row_names_list[0].index(name) for name in selected_row_names]\n",
        "    selection_mask = np.zeros(array_3d.shape[1], dtype=bool)\n",
        "    selection_mask[selected_indices] = True\n",
        "\n",
        "    modified_data = np.zeros_like(array_3d)\n",
        "    for layer_index in range(len(array_3d)):\n",
        "        modified_data[layer_index] = array_3d[layer_index] * selection_mask[:, np.newaxis]\n",
        "\n",
        "    results = []\n",
        "    for layer_index, layer_data in enumerate(modified_data):\n",
        "        for col_index, sum_val in enumerate(layer_data.sum(axis=0)):\n",
        "            identifier = f\"{column_names[col_index]} - {z_axis_names[layer_index]}\"\n",
        "            results.append((sum_val, identifier))\n",
        "\n",
        "    top_results = sorted(results, key=lambda x: x[0], reverse=True)[:10]\n",
        "    output = \"\\n\".join([f\"{name}: {value:.2f}\" for value, name in top_results])\n",
        "    return output\n",
        "\n",
        "iface = gr.Interface(\n",
        "    fn=calculate_top_values,\n",
        "    inputs=gr.CheckboxGroup(choices=row_names_list[0], label=\"Select Rows\"),\n",
        "    outputs=\"text\",\n",
        "    title=\"Data Analysis Based on Row Selection\",\n",
        "    description=\"Select rows for analysis. Outputs the top 10 highest sums with actual column-layer names.\"\n",
        ")\n",
        "\n",
        "iface.launch()\n",
        "\n"
      ],
      "metadata": {
        "colab": {
          "base_uri": "https://localhost:8080/",
          "height": 652
        },
        "id": "RCO5PfBgpfoH",
        "outputId": "70fb363e-2fd0-4eee-ac1e-15994fa098fc"
      },
      "execution_count": 4,
      "outputs": [
        {
          "output_type": "stream",
          "name": "stdout",
          "text": [
            "Setting queue=True in a Colab notebook requires sharing enabled. Setting `share=True` (you can turn this off by setting `share=False` in `launch()` explicitly).\n",
            "\n",
            "Colab notebook detected. To show errors in colab notebook, set debug=True in launch()\n",
            "Running on public URL: https://9fba8c2c6c9167013a.gradio.live\n",
            "\n",
            "This share link expires in 72 hours. For free permanent hosting and GPU upgrades, run `gradio deploy` from Terminal to deploy to Spaces (https://huggingface.co/spaces)\n"
          ]
        },
        {
          "output_type": "display_data",
          "data": {
            "text/plain": [
              "<IPython.core.display.HTML object>"
            ],
            "text/html": [
              "<div><iframe src=\"https://9fba8c2c6c9167013a.gradio.live\" width=\"100%\" height=\"500\" allow=\"autoplay; camera; microphone; clipboard-read; clipboard-write;\" frameborder=\"0\" allowfullscreen></iframe></div>"
            ]
          },
          "metadata": {}
        },
        {
          "output_type": "execute_result",
          "data": {
            "text/plain": []
          },
          "metadata": {},
          "execution_count": 4
        }
      ]
    }
  ]
}